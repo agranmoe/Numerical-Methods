{
 "cells": [
  {
   "cell_type": "code",
   "execution_count": 1,
   "metadata": {},
   "outputs": [
    {
     "name": "stderr",
     "output_type": "stream",
     "text": [
      "C:\\Users\\mvp33\\Anaconda3\\lib\\site-packages\\matplotlib\\figure.py:459: UserWarning: matplotlib is currently using a non-GUI backend, so cannot show the figure\n",
      "  \"matplotlib is currently using a non-GUI backend, \"\n"
     ]
    }
   ],
   "source": [
    "# start from Example 9.5 program odesim.py\n",
    "import numpy as np\n",
    "import matplotlib.pyplot as plt\n",
    "\n",
    "# constants\n",
    "g_Eart     = 9.81 # m s^-2\n",
    "g_Mars = 3.71 #m/s^2\n",
    "m     = 1.0 # kg\n",
    "rho_Earth   = 1.22 # kg m^-3\n",
    "rh\n",
    "C     = 0.47 # unitless\n",
    "R     = 0.08    # m\n",
    "h     = 0.001   # seconds\n",
    "theta = 30.0*(np.pi/180) # radians\n",
    "v0    = 100.0\t# m s^0\n",
    "const = (rho*C*np.pi*R**2)/(2.0*m)\n",
    "\n",
    "# define the equations of motion\n",
    "def f(r,const):\n",
    "    x   = r[0]\n",
    "    y   = r[1]\n",
    "    vx  = r[2]\n",
    "    vy  = r[3]\n",
    "    fx  = vx\n",
    "    fy  = vy\n",
    "    fvx = -const*vx*np.sqrt(vx**2+vy**2)\n",
    "    fvy = -g-const*vy*np.sqrt(vx**2+vy**2)\n",
    "    return np.array([fx,fy,fvx,fvy],float)\n",
    "\n",
    "# containers for output\n",
    "r = np.array([0.0,0.0,v0*np.cos(theta),v0*np.sin(theta)],float)\n",
    "xpoints = []\n",
    "ypoints = []\n",
    "\n",
    "# use fourth-order Runge-Kutta\n",
    "while r[1]>=0:\n",
    "    k1 = h*f(r,const)\n",
    "    k2 = h*f(r+0.5*k1,const)\n",
    "    k3 = h*f(r+0.5*k2,const)\n",
    "    k4 = h*f(r+k3,const)\n",
    "    r += (k1+2*k2+2*k3+k4)/6\n",
    "    xpoints.append(r[0])\n",
    "    ypoints.append(r[1])\n",
    "\n",
    "# make plot for part (b)\n",
    "p1 = plt.figure(1)\n",
    "plt.plot(xpoints,ypoints)\n",
    "plt.xlabel(\"x [m]\")\n",
    "plt.ylabel('y [m]')\n",
    "p1.show()\n",
    "\n",
    "# try different values of m\n",
    "p2 = plt.figure(2)\n",
    "for m in [0.25,0.5,1,2,4]:\n",
    "    const = (rho*C*np.pi*R**2)/(2.0*m)\n",
    "    r = np.array([0.0,0.0,v0*np.cos(theta),v0*np.sin(theta)],float)\n",
    "    xpoints = []\n",
    "    ypoints = []\n",
    "\n",
    "    # use fourth-order Runge-Kutta\n",
    "    while r[1]>=0:\n",
    "        k1 = h*f(r,const)\n",
    "        k2 = h*f(r+0.5*k1,const)\n",
    "        k3 = h*f(r+0.5*k2,const)\n",
    "        k4 = h*f(r+k3,const)\n",
    "        r += (k1+2*k2+2*k3+k4)/6\n",
    "        xpoints.append(r[0])\n",
    "        ypoints.append(r[1])\n",
    "\n",
    "    plt.plot(xpoints,ypoints,label='m = '+str(m)+' kg')\n",
    "\n",
    "plt.xlabel(\"x [m]\")\n",
    "plt.ylabel('y [m]')\n",
    "plt.legend()\n",
    "p2.show()"
   ]
  }
 ],
 "metadata": {
  "kernelspec": {
   "display_name": "Python 3",
   "language": "python",
   "name": "python3"
  },
  "language_info": {
   "codemirror_mode": {
    "name": "ipython",
    "version": 3
   },
   "file_extension": ".py",
   "mimetype": "text/x-python",
   "name": "python",
   "nbconvert_exporter": "python",
   "pygments_lexer": "ipython3",
   "version": "3.6.3"
  }
 },
 "nbformat": 4,
 "nbformat_minor": 2
}
